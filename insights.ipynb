{
 "cells": [
  {
   "cell_type": "markdown",
   "metadata": {},
   "source": [
    "# Data Loading\n",
    "--- \n",
    "Extract latest data from Zenodo Datastore"
   ]
  },
  {
   "cell_type": "code",
   "execution_count": null,
   "metadata": {},
   "outputs": [
    {
     "name": "stdout",
     "output_type": "stream",
     "text": [
      "['https://zenodo.org/api/records/14903859', 'https://zenodo.org/api/records/14901033', 'https://zenodo.org/api/records/14900942', 'https://zenodo.org/api/records/14900714', 'https://zenodo.org/api/records/14898218', 'https://zenodo.org/api/records/14890740', 'https://zenodo.org/api/records/14881009', 'https://zenodo.org/api/records/14877594', 'https://zenodo.org/api/records/14874096', 'https://zenodo.org/api/records/14872284', 'https://zenodo.org/api/records/14871202', 'https://zenodo.org/api/records/14870313', 'https://zenodo.org/api/records/14869934', 'https://zenodo.org/api/records/14868704']\n"
     ]
    }
   ],
   "source": [
    "# from lib.workspace.zenodo_client import Zenodo\n",
    "import os\n",
    "\n",
    "from dotenv import load_dotenv\n",
    "load_dotenv()\n",
    "\n",
    "# zenodo_datastore = Zenodo(os.getenv(\"ZENODO_TOKEN\"))\n",
    "# published_depositions = zenodo_datastore.list_depositions()\n",
    "\n",
    "# deposition_ids = [file['id'] for file in published_depositions]\n",
    "# file_urls = [f'https://zenodo.org/api/records/{deposition_id}' for deposition_id in deposition_ids]\n",
    "# print(file_urls) "
   ]
  },
  {
   "cell_type": "markdown",
   "metadata": {},
   "source": [
    "## Available datasets on Zenodo"
   ]
  },
  {
   "cell_type": "code",
   "execution_count": 2,
   "metadata": {},
   "outputs": [
    {
     "name": "stdout",
     "output_type": "stream",
     "text": [
      "['https://zenodo.org/api/records/14903859/files/rent_contracts_2025-02-21.parquet/content', 'https://zenodo.org/api/records/14901033/files/rent_contracts_2025-02-20.parquet/content', 'https://zenodo.org/api/records/14900942/files/rent_contracts_2025-02-20.parquet/content', 'https://zenodo.org/api/records/14900714/files/rent_contracts_2025-02-20.parquet/content', 'https://zenodo.org/api/records/14898218/files/rent_contracts_2025-02-20.parquet/content', 'https://zenodo.org/api/records/14890740/files/rent_contracts_2025-02-19.parquet/content', 'https://zenodo.org/api/records/14881009/files/rent_contracts_2025-02-17.parquet/content', 'https://zenodo.org/api/records/14877594/files/rent_contracts_2025-02-16.parquet/content', 'https://zenodo.org/api/records/14874096/files/rent_contracts_2025-02-15.parquet/content', 'https://zenodo.org/api/records/14872284/files/rent_contracts_2025-02-14.parquet/content', 'https://zenodo.org/api/records/14871202/files/rent_contracts_2025-02-14.parquet/content', 'https://zenodo.org/api/records/14870313/files/rent_contracts_2025-02-13.parquet/contenthttps://zenodo.org/api/records/14870313/files/rent_contracts_2025-02-14.parquet/content', 'https://zenodo.org/api/records/14869934/files/rent_contracts_2025-02-14.parquet/content', 'https://zenodo.org/api/records/14868704/files/rent_contracts_2025-02-13.parquet/content']\n"
     ]
    }
   ],
   "source": [
    "from datetime import date\n",
    "import requests\n",
    "\n",
    "# Iterate over each deposition_id in the file_urls list\n",
    "file_links = []\n",
    "for url in file_urls: \n",
    "    # Send a GET request to the URL\n",
    "    response = requests.get(url).json()['files']\n",
    "    link = \"\".join([file['links']['self'] for file in response])\n",
    "    file_links.append(link)\n",
    "\n",
    "print(file_links)"
   ]
  },
  {
   "cell_type": "markdown",
   "metadata": {},
   "source": [
    "# Data Exporation \n",
    "--- \n",
    "Schema"
   ]
  },
  {
   "cell_type": "code",
   "execution_count": 3,
   "metadata": {},
   "outputs": [
    {
     "data": {
      "text/plain": [
       "Schema([('literal', List(String))])"
      ]
     },
     "execution_count": 3,
     "metadata": {},
     "output_type": "execute_result"
    }
   ],
   "source": [
    "import polars as pl\n",
    "lf = pl.scan_parquet(file_links[0])\n",
    "lf.collect_schema()\n"
   ]
  },
  {
   "cell_type": "code",
   "execution_count": null,
   "metadata": {},
   "outputs": [],
   "source": []
  }
 ],
 "metadata": {
  "kernelspec": {
   "display_name": ".venv",
   "language": "python",
   "name": "python3"
  },
  "language_info": {
   "codemirror_mode": {
    "name": "ipython",
    "version": 3
   },
   "file_extension": ".py",
   "mimetype": "text/x-python",
   "name": "python",
   "nbconvert_exporter": "python",
   "pygments_lexer": "ipython3",
   "version": "3.10.12"
  }
 },
 "nbformat": 4,
 "nbformat_minor": 2
}
