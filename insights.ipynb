{
 "cells": [
  {
   "cell_type": "code",
   "execution_count": 1,
   "metadata": {},
   "outputs": [
    {
     "name": "stdout",
     "output_type": "stream",
     "text": [
      "['https://zenodo.org/api/records/14890740', 'https://zenodo.org/api/records/14881009', 'https://zenodo.org/api/records/14877594', 'https://zenodo.org/api/records/14874096', 'https://zenodo.org/api/records/14872284', 'https://zenodo.org/api/records/14871202', 'https://zenodo.org/api/records/14870313', 'https://zenodo.org/api/records/14869934', 'https://zenodo.org/api/records/14868704']\n"
     ]
    }
   ],
   "source": [
    "from lib.workspace.zenodo_client import Zenodo\n",
    "import os\n",
    "\n",
    "from dotenv import load_dotenv\n",
    "load_dotenv()\n",
    "\n",
    "zenodo_datastore = Zenodo(os.getenv(\"ZENODO_TOKEN\"))\n",
    "published_depositions = zenodo_datastore.list_depositions()\n",
    "\n",
    "deposition_ids = [file['id'] for file in published_depositions]\n",
    "file_urls = [f'https://zenodo.org/api/records/{deposition_id}' for deposition_id in deposition_ids]\n",
    "print(file_urls) "
   ]
  },
  {
   "cell_type": "code",
   "execution_count": 3,
   "metadata": {},
   "outputs": [
    {
     "name": "stdout",
     "output_type": "stream",
     "text": [
      "['https://zenodo.org/api/records/14890740/files/rent_contracts_2025-02-19.parquet/content', 'https://zenodo.org/api/records/14881009/files/rent_contracts_2025-02-17.parquet/content', 'https://zenodo.org/api/records/14877594/files/rent_contracts_2025-02-16.parquet/content', 'https://zenodo.org/api/records/14874096/files/rent_contracts_2025-02-15.parquet/content', 'https://zenodo.org/api/records/14872284/files/rent_contracts_2025-02-14.parquet/content', 'https://zenodo.org/api/records/14871202/files/rent_contracts_2025-02-14.parquet/content', 'https://zenodo.org/api/records/14870313/files/rent_contracts_2025-02-13.parquet/contenthttps://zenodo.org/api/records/14870313/files/rent_contracts_2025-02-14.parquet/content', 'https://zenodo.org/api/records/14869934/files/rent_contracts_2025-02-14.parquet/content', 'https://zenodo.org/api/records/14868704/files/rent_contracts_2025-02-13.parquet/content']\n"
     ]
    }
   ],
   "source": [
    "from datetime import date\n",
    "import requests\n",
    "\n",
    "# Iterate over each deposition_id in the file_urls list\n",
    "file_links = []\n",
    "for url in file_urls: \n",
    "    # Send a GET request to the URL\n",
    "    response = requests.get(url).json()['files']\n",
    "    link = \"\".join([file['links']['self'] for file in response])\n",
    "    file_links.append(link)\n",
    "\n",
    "print(file_links)"
   ]
  },
  {
   "cell_type": "code",
   "execution_count": null,
   "metadata": {},
   "outputs": [],
   "source": [
    "# Download the file_links[0] using requests.get()\n",
    "file_url = file_links[0]\n",
    "response = requests.get(file_url)\n",
    "\n",
    "# Save the content to a file\n",
    "with open('output/rent_contracts.parquet', 'wb') as file:\n",
    "    file.write(response.content)"
   ]
  },
  {
   "cell_type": "code",
   "execution_count": null,
   "metadata": {},
   "outputs": [],
   "source": [
    "import polars as pl\n",
    "\n",
    "lf = pl.scan_parquet('output/rent_contracts.parquet')\n",
    "\n",
    "lf = lf.with_columns([\n",
    "    pl.col(\"contract_start_date\").str.strptime(pl.Date),\n",
    "    pl.col(\"contract_end_date\").str.strptime(pl.Date),\n",
    "])\n",
    "\n",
    "print(lf.collect_schema())\n",
    "\n",
    "df = lf.collect()\n",
    "\n",
    "print(df)"
   ]
  }
 ],
 "metadata": {
  "kernelspec": {
   "display_name": ".venv",
   "language": "python",
   "name": "python3"
  },
  "language_info": {
   "codemirror_mode": {
    "name": "ipython",
    "version": 3
   },
   "file_extension": ".py",
   "mimetype": "text/x-python",
   "name": "python",
   "nbconvert_exporter": "python",
   "pygments_lexer": "ipython3",
   "version": "3.10.16"
  }
 },
 "nbformat": 4,
 "nbformat_minor": 2
}
