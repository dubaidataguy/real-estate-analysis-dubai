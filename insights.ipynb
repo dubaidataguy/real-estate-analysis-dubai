{
 "cells": [
  {
   "cell_type": "markdown",
   "metadata": {},
   "source": [
    "# Data Loading\n",
    "--- \n",
    "Extract latest data from Zenodo Datastore"
   ]
  },
  {
   "cell_type": "code",
   "execution_count": 32,
   "metadata": {},
   "outputs": [
    {
     "name": "stdout",
     "output_type": "stream",
     "text": [
      "['https://zenodo.org/api/records/14900942', 'https://zenodo.org/api/records/14900714', 'https://zenodo.org/api/records/14898218', 'https://zenodo.org/api/records/14890740', 'https://zenodo.org/api/records/14881009', 'https://zenodo.org/api/records/14877594', 'https://zenodo.org/api/records/14874096', 'https://zenodo.org/api/records/14872284', 'https://zenodo.org/api/records/14871202', 'https://zenodo.org/api/records/14870313', 'https://zenodo.org/api/records/14869934', 'https://zenodo.org/api/records/14868704']\n"
     ]
    }
   ],
   "source": [
    "from lib.workspace.zenodo_client import Zenodo\n",
    "import os\n",
    "\n",
    "from dotenv import load_dotenv\n",
    "load_dotenv()\n",
    "\n",
    "zenodo_datastore = Zenodo(os.getenv(\"ZENODO_TOKEN\"))\n",
    "published_depositions = zenodo_datastore.list_depositions()\n",
    "\n",
    "deposition_ids = [file['id'] for file in published_depositions]\n",
    "file_urls = [f'https://zenodo.org/api/records/{deposition_id}' for deposition_id in deposition_ids]\n",
    "print(file_urls) "
   ]
  },
  {
   "cell_type": "markdown",
   "metadata": {},
   "source": [
    "## Available datasets on Zenodo"
   ]
  },
  {
   "cell_type": "code",
   "execution_count": 33,
   "metadata": {},
   "outputs": [
    {
     "name": "stdout",
     "output_type": "stream",
     "text": [
      "['https://zenodo.org/api/records/14900942/files/rent_contracts_2025-02-20.parquet/content', 'https://zenodo.org/api/records/14900714/files/rent_contracts_2025-02-20.parquet/content', 'https://zenodo.org/api/records/14898218/files/rent_contracts_2025-02-20.parquet/content', 'https://zenodo.org/api/records/14890740/files/rent_contracts_2025-02-19.parquet/content', 'https://zenodo.org/api/records/14881009/files/rent_contracts_2025-02-17.parquet/content', 'https://zenodo.org/api/records/14877594/files/rent_contracts_2025-02-16.parquet/content', 'https://zenodo.org/api/records/14874096/files/rent_contracts_2025-02-15.parquet/content', 'https://zenodo.org/api/records/14872284/files/rent_contracts_2025-02-14.parquet/content', 'https://zenodo.org/api/records/14871202/files/rent_contracts_2025-02-14.parquet/content', 'https://zenodo.org/api/records/14870313/files/rent_contracts_2025-02-13.parquet/contenthttps://zenodo.org/api/records/14870313/files/rent_contracts_2025-02-14.parquet/content', 'https://zenodo.org/api/records/14869934/files/rent_contracts_2025-02-14.parquet/content', 'https://zenodo.org/api/records/14868704/files/rent_contracts_2025-02-13.parquet/content']\n"
     ]
    }
   ],
   "source": [
    "from datetime import date\n",
    "import requests\n",
    "\n",
    "# Iterate over each deposition_id in the file_urls list\n",
    "file_links = []\n",
    "for url in file_urls: \n",
    "    # Send a GET request to the URL\n",
    "    response = requests.get(url).json()['files']\n",
    "    link = \"\".join([file['links']['self'] for file in response])\n",
    "    file_links.append(link)\n",
    "\n",
    "print(file_links)"
   ]
  },
  {
   "cell_type": "markdown",
   "metadata": {},
   "source": [
    "# Data Exporation \n",
    "--- \n",
    "Schema"
   ]
  },
  {
   "cell_type": "code",
   "execution_count": null,
   "metadata": {},
   "outputs": [],
   "source": [
    "import polars as pl"
   ]
  },
  {
   "cell_type": "markdown",
   "metadata": {},
   "source": [
    "# Sample Data Analysis"
   ]
  },
  {
   "cell_type": "code",
   "execution_count": 37,
   "metadata": {},
   "outputs": [
    {
     "data": {
      "text/plain": [
       "Schema([('contract_id', String),\n",
       "        ('contract_reg_type_ar', String),\n",
       "        ('contract_reg_type_en', String),\n",
       "        ('contract_start_date', String),\n",
       "        ('contract_end_date', String),\n",
       "        ('ejari_bus_property_type_ar', String),\n",
       "        ('ejari_bus_property_type_en', String),\n",
       "        ('ejari_property_type_en', String),\n",
       "        ('ejari_property_type_ar', String),\n",
       "        ('ejari_property_sub_type_en', String),\n",
       "        ('ejari_property_sub_type_ar', String),\n",
       "        ('property_usage_en', String),\n",
       "        ('property_usage_ar', String),\n",
       "        ('project_name_ar', String),\n",
       "        ('project_name_en', String),\n",
       "        ('master_project_ar', String),\n",
       "        ('master_project_en', String),\n",
       "        ('area_name_ar', String),\n",
       "        ('area_name_en', String),\n",
       "        ('nearest_landmark_ar', String),\n",
       "        ('nearest_landmark_en', String),\n",
       "        ('nearest_metro_ar', String),\n",
       "        ('nearest_metro_en', String),\n",
       "        ('nearest_mall_ar', String),\n",
       "        ('nearest_mall_en', String),\n",
       "        ('tenant_type_ar', String),\n",
       "        ('tenant_type_en', String)])"
      ]
     },
     "execution_count": 37,
     "metadata": {},
     "output_type": "execute_result"
    }
   ],
   "source": [
    "lf.collect_schema()"
   ]
  },
  {
   "cell_type": "code",
   "execution_count": 38,
   "metadata": {},
   "outputs": [
    {
     "ename": "ComputeError",
     "evalue": "Generic HTTP error: Request error: Client error with status 429 Too Many Requests: {\"message\":\"133 per 1 minute\",\"status\":429}\n",
     "output_type": "error",
     "traceback": [
      "\u001b[0;31m---------------------------------------------------------------------------\u001b[0m",
      "\u001b[0;31mComputeError\u001b[0m                              Traceback (most recent call last)",
      "Cell \u001b[0;32mIn[38], line 1\u001b[0m\n\u001b[0;32m----> 1\u001b[0m \u001b[43mlf\u001b[49m\u001b[38;5;241;43m.\u001b[39;49m\u001b[43mhead\u001b[49m\u001b[43m(\u001b[49m\u001b[38;5;241;43m5\u001b[39;49m\u001b[43m)\u001b[49m\u001b[38;5;241;43m.\u001b[39;49m\u001b[43mcollect\u001b[49m\u001b[43m(\u001b[49m\u001b[43m)\u001b[49m\n",
      "File \u001b[0;32m/workspaces/real-estate-analysis-dubai/.venv/lib/python3.10/site-packages/polars/lazyframe/frame.py:2066\u001b[0m, in \u001b[0;36mLazyFrame.collect\u001b[0;34m(self, type_coercion, _type_check, predicate_pushdown, projection_pushdown, simplify_expression, slice_pushdown, comm_subplan_elim, comm_subexpr_elim, cluster_with_columns, collapse_joins, no_optimization, streaming, engine, background, _check_order, _eager, **_kwargs)\u001b[0m\n\u001b[1;32m   2064\u001b[0m \u001b[38;5;66;03m# Only for testing purposes\u001b[39;00m\n\u001b[1;32m   2065\u001b[0m callback \u001b[38;5;241m=\u001b[39m _kwargs\u001b[38;5;241m.\u001b[39mget(\u001b[38;5;124m\"\u001b[39m\u001b[38;5;124mpost_opt_callback\u001b[39m\u001b[38;5;124m\"\u001b[39m, callback)\n\u001b[0;32m-> 2066\u001b[0m \u001b[38;5;28;01mreturn\u001b[39;00m wrap_df(\u001b[43mldf\u001b[49m\u001b[38;5;241;43m.\u001b[39;49m\u001b[43mcollect\u001b[49m\u001b[43m(\u001b[49m\u001b[43mcallback\u001b[49m\u001b[43m)\u001b[49m)\n",
      "\u001b[0;31mComputeError\u001b[0m: Generic HTTP error: Request error: Client error with status 429 Too Many Requests: {\"message\":\"133 per 1 minute\",\"status\":429}\n"
     ]
    }
   ],
   "source": [
    "lf.head(5).collect()"
   ]
  }
 ],
 "metadata": {
  "kernelspec": {
   "display_name": ".venv",
   "language": "python",
   "name": "python3"
  },
  "language_info": {
   "codemirror_mode": {
    "name": "ipython",
    "version": 3
   },
   "file_extension": ".py",
   "mimetype": "text/x-python",
   "name": "python",
   "nbconvert_exporter": "python",
   "pygments_lexer": "ipython3",
   "version": "3.10.16"
  }
 },
 "nbformat": 4,
 "nbformat_minor": 2
}
